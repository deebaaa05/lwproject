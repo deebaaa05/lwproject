{
 "cells": [
  {
   "cell_type": "code",
   "execution_count": null,
   "id": "87cc3c0c",
   "metadata": {},
   "outputs": [],
   "source": [
    "#Task - 1:\n",
    "\n",
    "#Create a program in python \n",
    "    #Create inquiry form to take input \n",
    "        #- Name\n",
    "        #- Contact no\n",
    "       #- Mail id\n",
    "       #- Query "
   ]
  },
  {
   "cell_type": "code",
   "execution_count": null,
   "id": "005157f2",
   "metadata": {},
   "outputs": [],
   "source": [
    "name = input(\"Enter your name: \")\n",
    "contact = input(\"Enter your contact number: \")\n",
    "mail = input(\"Enter your E-mail address: \")\n",
    "query = input(\"Enter your query: \")\n",
    "\n",
    "print(\"Your name is: \", name,\n",
    "    \"\\n\", \n",
    "    \"Your Contact number is: \", contact,\n",
    "    \"\\n\",\n",
    "    \"Your email address is: \", mail,\n",
    "    \"\\n\",\n",
    "    \"Your query is: \", query)"
   ]
  },
  {
   "cell_type": "code",
   "execution_count": null,
   "id": "edc5b44a",
   "metadata": {},
   "outputs": [],
   "source": [
    "#Task - 2:\n",
    "\n",
    "#Connect to 5 people nearby, ask their personal \n",
    "#details like\n",
    "    #- Name\n",
    "    #- City\n",
    "    #- College name\n",
    "    #- Email id\n",
    "    #- Insta profile\n",
    "\n",
    "#and store the entire info in data structure \"dictionary\" with variable name of \"dictionary\" is \"lwdb\"\n",
    "#and then convert same dictionary into pandas data frame with variable name of \"lwdbfinal\". \n",
    "\n"
   ]
  },
  {
   "cell_type": "code",
   "execution_count": null,
   "id": "94880e27",
   "metadata": {},
   "outputs": [],
   "source": [
    "import pandas as pd\n",
    "\n",
    "lwdb = {\n",
    "    'Name' : ['deeba', 'astha', 'Mahi', 'divya', 'lehar'],\n",
    "    'City' : ['Jaipur', 'Ajmer', 'Jaipur', 'Delhi', 'Jaipur'],\n",
    "    'College_Name' : ['Poornima University', 'Manipal University', 'JECRC University', 'IIT Delhi', 'Poornima University'],\n",
    "    'Email' : ['deeba@gmail.com', 'astha@gmail.com', 'mahi@gmail.com', 'divya@gmail.com', 'lehar@gmail.com'],\n",
    "    'Insta_Profile' : ['deeba_07', 'astha_00', 'mahi8', 'divyaaaa', 'lehae_4'] \n",
    "}\n",
    "\n",
    "print(type(lwdb))\n",
    "\n",
    "lwdbfinal = pd.DataFrame(lwdb)\n",
    "lwdbfinal"
   ]
  },
  {
   "cell_type": "code",
   "execution_count": null,
   "id": "606abe42",
   "metadata": {},
   "outputs": [],
   "source": [
    "#Task - 3:\n",
    "\n",
    "#Print only all \"name\" and \"email\" from variable \"lwdbfinal\" in one statement\n",
    "#Print insta profile and name  of only record number 2 to 4 only"
   ]
  },
  {
   "cell_type": "code",
   "execution_count": null,
   "id": "34144f6f",
   "metadata": {},
   "outputs": [],
   "source": [
    "lwdbfinal[['Name', 'Email']]"
   ]
  },
  {
   "cell_type": "code",
   "execution_count": null,
   "id": "9892ff45",
   "metadata": {},
   "outputs": [],
   "source": [
    "lwdbfinal.iloc[2:4, [0, 4]] "
   ]
  },
  {
   "cell_type": "code",
   "execution_count": null,
   "id": "57f42794",
   "metadata": {},
   "outputs": [],
   "source": [
    "#Task - 4:\n",
    "#Create python program --> menu.py so that\n",
    "#When anyone run\n",
    "#We present with 4 options, like\n",
    "#Press 1: to start notepad\n",
    "#Press 2: to start chrome or firefox\n",
    "#Press 3: to start vlc player or any other player\n",
    "#Press 4: if ask input which url to open in browser, and when we give url, it open that website in browser"
   ]
  },
  {
   "cell_type": "code",
   "execution_count": null,
   "id": "89b48338",
   "metadata": {},
   "outputs": [],
   "source": [
    "import subprocess as sp\n",
    "import webbrowser\n",
    "\n",
    "# Options\n",
    "print(\"\\n\",\n",
    "    'Press 1: To Start Notepad', '\\n',\n",
    "    'Press 2: To Start Chrome', '\\n',\n",
    "    'Press 3: To Start spotify', '\\n',\n",
    "    'Press 4: Type the url or website link to open in Web Browser', '\\n\\n',\n",
    ")\n",
    "\n",
    "ch = int(input('Press the appropriate key for desired task: '))\n",
    "\n",
    "+\n",
    "if ch == 1:\n",
    "    sp.run('notepad', shell = True)\n",
    "\n",
    "elif ch == 2: \n",
    "    sp.run(\"C:\\\\Users\\\\Public\\\\Desktop\\\\Google Chrome.lnk\", shell = True)\n",
    "\n",
    "elif ch == 3:\n",
    "    sp.run(\"C:\\\\Users\\\\Maziya\\\\AppData\\\\Roaming\\\\Microsoft\\\\Windows\\\\Start Menu\\\\Programs\\\\Spotify.lnk\", shell = True)\n",
    "\n",
    "elif ch == 4:\n",
    "    url = input(\"-- Type the URL or website link to open in Web Browser -- \\n\")\n",
    "    if not url.startswith(('http://', 'https://')):\n",
    "        url = 'http://' + url\n",
    "    webbrowser.open(url)"
   ]
  },
  {
   "cell_type": "code",
   "execution_count": null,
   "id": "1b833327",
   "metadata": {},
   "outputs": [],
   "source": [
    "#Task - 5:\n",
    "\n",
    "#In task - 2, you got some data, now you have create program, that help you to search entire information about particular person by asking their name means “Search by Name”"
   ]
  },
  {
   "cell_type": "code",
   "execution_count": null,
   "id": "08f7a328",
   "metadata": {},
   "outputs": [],
   "source": [
    "# Case where Record exist\n",
    "\n",
    "name = input(\"Enter the Name of the person whose details you want: \")\n",
    "lwdbfinal[lwdbfinal['Name'] == name]"
   ]
  },
  {
   "cell_type": "code",
   "execution_count": null,
   "id": "a1cc8b7c",
   "metadata": {},
   "outputs": [],
   "source": [
    "# Case where Record doesn't exist\n",
    "\n",
    "name = input(\"Enter the Name of the person whose details you want: \")\n",
    "lwdbfinal[lwdbfinal['Name'] == name]"
   ]
  },
  {
   "cell_type": "code",
   "execution_count": null,
   "id": "fe67f79c",
   "metadata": {},
   "outputs": [],
   "source": [
    "#Task - 6:\n",
    "\n",
    "#Run Shell or linux Commands in python\n"
   ]
  },
  {
   "cell_type": "code",
   "execution_count": null,
   "id": "1645f808",
   "metadata": {},
   "outputs": [],
   "source": [
    "import pyautogui as py\n",
    "import webbrowser as wb\n",
    "import time "
   ]
  },
  {
   "cell_type": "code",
   "execution_count": null,
   "id": "a8b3a6e3",
   "metadata": {},
   "outputs": [],
   "source": [
    "def send_whatsapp(mob, message):\n",
    "    # Open WhatsApp Web\n",
    "    wb.open(f\"https://web.whatsapp.com/send?phone={mob}\")\n",
    "    time.sleep(20)  # Waiting for opening of WhatsApp (adjust as needed)\n",
    "\n",
    "    # Typing and sending the message\n",
    "    time.sleep(2)\n",
    "    py.typewrite(message)\n",
    "    py.press(\"enter\")\n",
    "\n",
    "mobile_number = input(\"Enter the mobile number to which you want to send the message: \")\n",
    "message = input(\"Type the message: \")\n",
    "\n",
    "send_whatsapp(mobile_number, message)"
   ]
  },
  {
   "cell_type": "code",
   "execution_count": null,
   "id": "9a7bb88a",
   "metadata": {},
   "outputs": [],
   "source": [
    "#Task - 7:\n",
    "\n",
    "#Sending Email using python"
   ]
  },
  {
   "cell_type": "code",
   "execution_count": null,
   "id": "4712a2c8",
   "metadata": {},
   "outputs": [],
   "source": [
    "import smtplib\n",
    "\n",
    "def send_email(sender_email, password, receiver_email, subject, body):\n",
    "    message = f\"Subject: {subject}\\n\\n{body}\"\n",
    "\n",
    "    with smtplib.SMTP('smtp.office365.com', 587) as server:\n",
    "        server.starttls()\n",
    "        server.login(sender_email, password)\n",
    "        server.sendmail(sender_email, receiver_email, message)\n",
    "\n",
    "    print(\"Email sent successfully.\")\n",
    "\n",
    "# Example Usage:\n",
    "sender_email = 'deebakhan0512@gmail,com' # Test mail (Use Outlook mail to send the emails)\n",
    "password =  \"jlbpqnsqynmxntdi\"\n",
    "receiver_email = \"2022bcaaidsdeeba11001@poornima.edu.in\"\n",
    "subject = 'Greetings'\n",
    "body = 'how are you'\n",
    "\n",
    "send_email(sender_email, password, receiver_email, subject, body)"
   ]
  },
  {
   "cell_type": "code",
   "execution_count": null,
   "id": "1fe45148",
   "metadata": {},
   "outputs": [],
   "source": [
    "#Task - 8:\n",
    "\n",
    "#Sending SMS through python"
   ]
  },
  {
   "cell_type": "code",
   "execution_count": null,
   "id": "8bcaf912",
   "metadata": {},
   "outputs": [],
   "source": []
  },
  {
   "cell_type": "code",
   "execution_count": null,
   "id": "3efc1e16",
   "metadata": {},
   "outputs": [],
   "source": [
    "#Task - 9:\n",
    "\n",
    "#Search a String using python which will get the results in google."
   ]
  },
  {
   "cell_type": "code",
   "execution_count": null,
   "id": "c65fca9b",
   "metadata": {},
   "outputs": [],
   "source": [
    "pip install google"
   ]
  },
  {
   "cell_type": "code",
   "execution_count": null,
   "id": "79e119a9",
   "metadata": {},
   "outputs": [],
   "source": [
    "from googlesearch import search\n",
    "\n",
    "def scrape_google(query, num_results=5):\n",
    "    search_results = []\n",
    "    count = 0\n",
    "    for result in search(query, num_results=num_results):\n",
    "        search_results.append(result)\n",
    "        count += 1\n",
    "        if count >= num_results:\n",
    "            break\n",
    "    return search_results\n",
    "\n",
    "scrape_google(query=\"Vimal Daga\")\n"
   ]
  },
  {
   "cell_type": "code",
   "execution_count": null,
   "id": "5efd9281",
   "metadata": {},
   "outputs": [],
   "source": [
    "#Task - 10:\n",
    "\n",
    "#Find the longitude and location name using python"
   ]
  },
  {
   "cell_type": "code",
   "execution_count": null,
   "id": "5648fdb0",
   "metadata": {},
   "outputs": [],
   "source": [
    "import geocoder\n",
    "\n",
    "def get_coordinates_by_ip():\n",
    "    g = geocoder.ip('me')\n",
    "    return g.latlng\n",
    "\n",
    "coordinates = get_coordinates_by_ip()\n",
    "print(f\"Your coordinates based on IP address are: {coordinates}\")"
   ]
  },
  {
   "cell_type": "code",
   "execution_count": null,
   "id": "396457e2",
   "metadata": {},
   "outputs": [],
   "source": [
    "#Task - 11:\n",
    "\n",
    "#Speak through the speaker using python."
   ]
  },
  {
   "cell_type": "code",
   "execution_count": null,
   "id": "84afe808",
   "metadata": {},
   "outputs": [],
   "source": [
    "import pyttsx3\n",
    "\n",
    "def speak(text):\n",
    "    engine = pyttsx3.init()\n",
    "    voices = engine.getProperty('voices')\n",
    "    \n",
    "    # Select the first voice available\n",
    "    engine.setProperty('voice', voices[0].id)\n",
    "    \n",
    "    # Set speech rate and volume\n",
    "    engine.setProperty('rate', 140)\n",
    "    engine.setProperty('volume', 1.0)\n",
    "    \n",
    "    # Speak the text\n",
    "    engine.say(text)\n",
    "    engine.runAndWait()\n",
    "\n",
    "text = input(\"Type here what you want me to speak: \")\n",
    "\n",
    "print(\"You said: \", text)\n",
    "speak(text)"
   ]
  },
  {
   "cell_type": "code",
   "execution_count": null,
   "id": "30dfa6fd",
   "metadata": {},
   "outputs": [],
   "source": [
    "#Task - 12:\n",
    "\n",
    "#Convert text into Audio and whatsapp or email the same audio."
   ]
  },
  {
   "cell_type": "code",
   "execution_count": null,
   "id": "5508b069",
   "metadata": {},
   "outputs": [],
   "source": [
    "import pyttsx3\n",
    "import pyautogui as py \n",
    "import webbrowser as wb\n",
    "import time "
   ]
  },
  {
   "cell_type": "code",
   "execution_count": null,
   "id": "6e0fe287",
   "metadata": {},
   "outputs": [],
   "source": [
    "# This code can be used to send any file using exact path\n",
    "\n",
    "def text_to_audio(text, filename):\n",
    "    engine = pyttsx3.init()\n",
    "    engine.save_to_file(text, filename) \n",
    "    engine.runAndWait()\n",
    "\n",
    "def send_file_on_whatsapp(mobile, path):\n",
    "    wb.open(f\"https://web.whatsapp.com/send?phone={mobile}\")\n",
    "    time.sleep(20)\n",
    "\n",
    "    attach = py.locateOnScreen('downloadd56.jpg')\n",
    "    time.sleep(3)\n",
    "    py.click(attach)\n",
    "    py.press('down')\n",
    "    time.sleep(1)\n",
    "    py.press('enter')\n",
    "    \n",
    "    time.sleep(5)\n",
    "    py.typewrite(path)\n",
    "    time.sleep(1)\n",
    "    py.press('enter')\n",
    "    time.sleep(3)\n",
    "    py.press('enter')\n",
    "\n",
    "# Convert text to audio and save it\n",
    "text = \"Hello, this is a sample text to convert into audio.\"\n",
    "filename = \"output.mp3\"\n",
    "text_to_audio(text, filename)\n",
    "\n",
    "# Send the audio file via WhatsApp\n",
    "phone_number = input(\"Enter the mobile number to which you want to send the file: \") \n",
    "send_file_on_whatsapp(phone_number, filename)\n",
    "print(\"File Delivered Successfully\")"
   ]
  },
  {
   "cell_type": "code",
   "execution_count": null,
   "id": "07cb59b0",
   "metadata": {},
   "outputs": [],
   "source": [
    "#Task - 13:\n",
    "\n",
    "#Increase and decrease the volume of your system using python."
   ]
  },
  {
   "cell_type": "code",
   "execution_count": null,
   "id": "63087a26",
   "metadata": {},
   "outputs": [],
   "source": [
    "from pycaw.pycaw import AudioUtilities, IAudioEndpointVolume\n",
    "from ctypes import cast, POINTER\n",
    "from comtypes import CLSCTX_ALL\n",
    "\n",
    "def get_default_audio_device():\n",
    "    \"\"\"Get the default audio device\"\"\"\n",
    "    devices = AudioUtilities.GetSpeakers()\n",
    "    interface = devices.Activate(\n",
    "        IAudioEndpointVolume._iid_, CLSCTX_ALL, None)\n",
    "    return cast(interface, POINTER(IAudioEndpointVolume))\n",
    "\n",
    "def get_current_volume():\n",
    "    \"\"\"Get the current volume level as a percentage\"\"\"\n",
    "    volume = get_default_audio_device()\n",
    "    current_volume = volume.GetMasterVolumeLevelScalar()\n",
    "    return int(current_volume * 100)\n",
    "\n",
    "def set_volume(level):\n",
    "    \"\"\"Set the volume level (0 to 100)\"\"\"\n",
    "    volume = get_default_audio_device()\n",
    "    if 0 <= level <= 100:\n",
    "        volume.SetMasterVolumeLevelScalar(level / 100, None)\n",
    "        print(f\"Volume set to {level}%\")\n",
    "    else:\n",
    "        raise ValueError(\"Volume level must be between 0 and 100\")\n",
    "\n",
    "def main():\n",
    "    try:\n",
    "        current_volume = get_current_volume()\n",
    "        print(f\"Current volume: {current_volume}%\")\n",
    "        new_volume = int(input(\"Enter new volume level (0-100): \"))\n",
    "        set_volume(new_volume)\n",
    "    except ValueError as e:\n",
    "        print(e)\n",
    "    except Exception as e:\n",
    "        print(f\"An unexpected error occurred: {e}\")\n",
    "\n",
    "if __name__ == \"__main__\":\n",
    "    main()"
   ]
  },
  {
   "cell_type": "code",
   "execution_count": null,
   "id": "cee07412",
   "metadata": {},
   "outputs": [],
   "source": [
    "#Task - 14:\n",
    "\n",
    "#Send bulk email using python"
   ]
  },
  {
   "cell_type": "code",
   "execution_count": null,
   "id": "5d9308f0",
   "metadata": {},
   "outputs": [],
   "source": [
    "#open app using voice"
   ]
  },
  {
   "cell_type": "code",
   "execution_count": null,
   "id": "b8e1583f",
   "metadata": {},
   "outputs": [],
   "source": [
    "import speech_recognition as sr\n",
    "import subprocess\n",
    "import pyautogui as py\n",
    "import time\n"
   ]
  },
  {
   "cell_type": "code",
   "execution_count": null,
   "id": "680f02c6",
   "metadata": {},
   "outputs": [],
   "source": [
    "#bulk mail"
   ]
  },
  {
   "cell_type": "code",
   "execution_count": null,
   "id": "a12c934c",
   "metadata": {},
   "outputs": [],
   "source": [
    "import smtplib\n",
    "\n",
    "def send_email(sender_email, password, receiver_email, subject, body):\n",
    "    message = f\"Subject: {subject}\\n\\n{body}\"\n",
    "\n",
    "    with smtplib.SMTP('smtp.office365.com', 587) as server:\n",
    "        server.starttls()\n",
    "        server.login(sender_email, password)\n",
    "        for i in receiver_email:\n",
    "            server.sendmail(sender_email, i, message)\n",
    "\n",
    "    print(\"Email sent successfully.\")\n",
    "\n",
    "# Example Usage: \n",
    "sender_email = 'chequekar@outlook.com' # Test mail (Use Outlook mail to send the emails)\n",
    "password = 'Asdfg54321$'    \n",
    "receiver_email = ['marvelfan389@gmail.com', 'geofi.official@gmail.com']\n",
    "subject = 'Greetings'\n",
    "body = 'how are you'\n",
    "\n",
    "send_email(sender_email, password, receiver_email, subject, body)"
   ]
  }
 ],
 "metadata": {
  "kernelspec": {
   "display_name": "Python 3 (ipykernel)",
   "language": "python",
   "name": "python3"
  },
  "language_info": {
   "codemirror_mode": {
    "name": "ipython",
    "version": 3
   },
   "file_extension": ".py",
   "mimetype": "text/x-python",
   "name": "python",
   "nbconvert_exporter": "python",
   "pygments_lexer": "ipython3",
   "version": "3.11.7"
  }
 },
 "nbformat": 4,
 "nbformat_minor": 5
}
